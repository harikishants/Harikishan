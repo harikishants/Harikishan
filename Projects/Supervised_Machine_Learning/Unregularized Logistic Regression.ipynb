{
 "cells": [
  {
   "cell_type": "code",
   "execution_count": 2,
   "metadata": {},
   "outputs": [],
   "source": [
    "import numpy as np\n",
    "import pandas as pd\n",
    "import matplotlib.pyplot as plt"
   ]
  },
  {
   "cell_type": "code",
   "execution_count": 3,
   "metadata": {},
   "outputs": [
    {
     "data": {
      "text/html": [
       "<div>\n",
       "<style scoped>\n",
       "    .dataframe tbody tr th:only-of-type {\n",
       "        vertical-align: middle;\n",
       "    }\n",
       "\n",
       "    .dataframe tbody tr th {\n",
       "        vertical-align: top;\n",
       "    }\n",
       "\n",
       "    .dataframe thead th {\n",
       "        text-align: right;\n",
       "    }\n",
       "</style>\n",
       "<table border=\"1\" class=\"dataframe\">\n",
       "  <thead>\n",
       "    <tr style=\"text-align: right;\">\n",
       "      <th></th>\n",
       "      <th>x1</th>\n",
       "      <th>x2</th>\n",
       "      <th>y</th>\n",
       "    </tr>\n",
       "  </thead>\n",
       "  <tbody>\n",
       "    <tr>\n",
       "      <th>0</th>\n",
       "      <td>34.623660</td>\n",
       "      <td>78.024693</td>\n",
       "      <td>0</td>\n",
       "    </tr>\n",
       "    <tr>\n",
       "      <th>1</th>\n",
       "      <td>30.286711</td>\n",
       "      <td>43.894998</td>\n",
       "      <td>0</td>\n",
       "    </tr>\n",
       "    <tr>\n",
       "      <th>2</th>\n",
       "      <td>35.847409</td>\n",
       "      <td>72.902198</td>\n",
       "      <td>0</td>\n",
       "    </tr>\n",
       "    <tr>\n",
       "      <th>3</th>\n",
       "      <td>60.182599</td>\n",
       "      <td>86.308552</td>\n",
       "      <td>1</td>\n",
       "    </tr>\n",
       "    <tr>\n",
       "      <th>4</th>\n",
       "      <td>79.032736</td>\n",
       "      <td>75.344376</td>\n",
       "      <td>1</td>\n",
       "    </tr>\n",
       "  </tbody>\n",
       "</table>\n",
       "</div>"
      ],
      "text/plain": [
       "          x1         x2  y\n",
       "0  34.623660  78.024693  0\n",
       "1  30.286711  43.894998  0\n",
       "2  35.847409  72.902198  0\n",
       "3  60.182599  86.308552  1\n",
       "4  79.032736  75.344376  1"
      ]
     },
     "execution_count": 3,
     "metadata": {},
     "output_type": "execute_result"
    }
   ],
   "source": [
    "data_path = 'data/ex2data1.txt'\n",
    "data = pd.read_csv(data_path, header=None, names = [\"x1\",\"x2\",\"y\"])\n",
    "data.head()"
   ]
  },
  {
   "cell_type": "code",
   "execution_count": 4,
   "metadata": {},
   "outputs": [
    {
     "data": {
      "image/png": "[encoded data removed]",
      "text/plain": [
       "<Figure size 432x288 with 1 Axes>"
      ]
     },
     "metadata": {
      "needs_background": "light"
     },
     "output_type": "display_data"
    }
   ],
   "source": [
    "neg = data['y'] == 0\n",
    "pos = data['y'] == 1\n",
    "plt.scatter(data[pos]['x1'],data[pos]['x2'], marker='+', c='orange', s=60, linewidth=2, label = \"Admitted\")\n",
    "plt.scatter(data[neg]['x1'], data[neg]['x2'], c='blue', s=60, label = \"Not admitted\" )\n",
    "plt.xlabel('Exam 1 score')\n",
    "plt.ylabel('Exam 2 score')\n",
    "plt.legend(loc='best')\n",
    "plt.show()"
   ]
  },
  {
   "cell_type": "code",
   "execution_count": 5,
   "metadata": {},
   "outputs": [],
   "source": [
    "n = data.shape[1]-1\n",
    "x = data[data.columns[0:n]]\n",
    "\n",
    "y = data[data.columns[n:n+1]]\n",
    "# convert to np.array\n",
    "X = x.values\n",
    "# insert 1's (x_0)\n",
    "X = np.insert(X, 0, 1, axis=1)\n",
    "y = y.values"
   ]
  },
  {
   "cell_type": "code",
   "execution_count": 6,
   "metadata": {},
   "outputs": [],
   "source": [
    "### Sigmoid function\n",
    "\n",
    "def sigmoid(z):\n",
    "    return(1 / (1 + np.exp(-z)))"
   ]
  },
  {
   "cell_type": "code",
   "execution_count": 7,
   "metadata": {},
   "outputs": [],
   "source": [
    "### Hypothesis and cost function\n",
    "\n",
    "m = X.shape[0]\n",
    "def Cost(theta, X, y):\n",
    "    h = sigmoid(X.dot(theta))\n",
    "    J = -1*(1/m)*(np.log(h).T.dot(y)+np.log(1-h).T.dot(1-y))\n",
    "          \n",
    "    if np.isnan(J.item()):\n",
    "        return(np.inf)\n",
    "    return(J.item())"
   ]
  },
  {
   "cell_type": "code",
   "execution_count": 8,
   "metadata": {},
   "outputs": [
    {
     "data": {
      "text/plain": [
       "0.6931471805599453"
      ]
     },
     "execution_count": 8,
     "metadata": {},
     "output_type": "execute_result"
    }
   ],
   "source": [
    "theta_initial = np.zeros(X.shape[1]).reshape(-1,1)\n",
    "Cost(theta_initial,X,y)"
   ]
  },
  {
   "cell_type": "code",
   "execution_count": 9,
   "metadata": {},
   "outputs": [],
   "source": [
    "def gradient(theta, X, y):\n",
    "    h = sigmoid(X.dot(theta))\n",
    "    \n",
    "    grad =(1/m)*X.T.dot(h-y)\n",
    "\n",
    "    return grad"
   ]
  },
  {
   "cell_type": "code",
   "execution_count": 10,
   "metadata": {},
   "outputs": [
    {
     "name": "stdout",
     "output_type": "stream",
     "text": [
      "Cost: \n",
      " 0.6931471805599453\n",
      "Grad: \n",
      " [[ -0.1       ]\n",
      " [-12.00921659]\n",
      " [-11.26284221]]\n"
     ]
    }
   ],
   "source": [
    "theta_initial = np.zeros(X.shape[1]).reshape(-1,1)\n",
    "cost = Cost(theta_initial, X, y)\n",
    "grad = gradient(theta_initial, X, y)\n",
    "print('Cost: \\n', cost)\n",
    "print('Grad: \\n', grad)"
   ]
  },
  {
   "cell_type": "code",
   "execution_count": 11,
   "metadata": {},
   "outputs": [],
   "source": [
    "def gradientDescent(X, y, theta, alpha, num_iters):\n",
    "    J_history = np.zeros(num_iters)\n",
    "    \n",
    "    for iter in np.arange(num_iters):\n",
    "\n",
    "        theta = theta - alpha*gradient(theta,X,y)\n",
    "        J_history[iter] = Cost(theta,X,y)\n",
    "    return(theta, J_history)"
   ]
  },
  {
   "cell_type": "code",
   "execution_count": 12,
   "metadata": {},
   "outputs": [],
   "source": [
    "theta_initial = np.zeros(X.shape[1]).reshape(-1,1)\n",
    "alpha = 0.005\n",
    "iterations = 200000\n",
    "theta, cost_history = gradientDescent(X,y,theta_initial,alpha,iterations)"
   ]
  },
  {
   "cell_type": "code",
   "execution_count": 13,
   "metadata": {},
   "outputs": [
    {
     "data": {
      "text/plain": [
       "array([[-29.86893174],\n",
       "       [  0.26025217],\n",
       "       [  0.25273412]])"
      ]
     },
     "execution_count": 13,
     "metadata": {},
     "output_type": "execute_result"
    }
   ],
   "source": [
    "theta"
   ]
  },
  {
   "cell_type": "code",
   "execution_count": 14,
   "metadata": {},
   "outputs": [
    {
     "data": {
      "text/plain": [
       "(0, 200000)"
      ]
     },
     "execution_count": 14,
     "metadata": {},
     "output_type": "execute_result"
    },
    {
     "data": {
      "image/png": "[encoded data removed]",
      "text/plain": [
       "<Figure size 432x288 with 1 Axes>"
      ]
     },
     "metadata": {
      "needs_background": "light"
     },
     "output_type": "display_data"
    }
   ],
   "source": [
    "plt.plot(cost_history)\n",
    "plt.ylabel('J' + ' (' + r'$\\theta$' +')')\n",
    "# or plt.ylabel('J' + ' (\\u0398)' )\n",
    "plt.xlabel('Iterations')\n",
    "plt.ylim(ymin = 0)\n",
    "plt.xlim(0,iterations)"
   ]
  },
  {
   "cell_type": "code",
   "execution_count": 15,
   "metadata": {},
   "outputs": [
    {
     "name": "stdout",
     "output_type": "stream",
     "text": [
      "Optimization terminated successfully.\n",
      "         Current function value: 0.203498\n",
      "         Iterations: 157\n",
      "         Function evaluations: 287\n"
     ]
    }
   ],
   "source": [
    "## Optimization (using Scipy)\n",
    "import scipy.optimize as sp\n",
    "theta_opt = sp.fmin( Cost, x0=theta_initial, args=(X, y), maxiter=500, full_output=True)"
   ]
  },
  {
   "cell_type": "code",
   "execution_count": 16,
   "metadata": {},
   "outputs": [],
   "source": [
    "def predict(theta, X, threshold=0.5):\n",
    "    p = sigmoid(X.dot(theta.T)) >= threshold\n",
    "    return(p.astype('int'))"
   ]
  },
  {
   "cell_type": "code",
   "execution_count": 17,
   "metadata": {},
   "outputs": [
    {
     "data": {
      "text/plain": [
       "array([-25.16130062,   0.20623142,   0.20147143])"
      ]
     },
     "execution_count": 17,
     "metadata": {},
     "output_type": "execute_result"
    }
   ],
   "source": [
    "theta_opt = theta_opt[0]\n",
    "theta_opt"
   ]
  },
  {
   "cell_type": "code",
   "execution_count": 18,
   "metadata": {},
   "outputs": [
    {
     "data": {
      "text/plain": [
       "0.7762915904112411"
      ]
     },
     "execution_count": 18,
     "metadata": {},
     "output_type": "execute_result"
    }
   ],
   "source": [
    "sigmoid(np.array([1, 45, 85]).dot(theta_opt.T))"
   ]
  },
  {
   "cell_type": "code",
   "execution_count": 19,
   "metadata": {},
   "outputs": [
    {
     "name": "stdout",
     "output_type": "stream",
     "text": [
      "Train accuracy 89.0%\n"
     ]
    }
   ],
   "source": [
    "p = predict(theta_opt, X) \n",
    "print('Train accuracy {}%'.format(100*sum(p == y.ravel())/p.size))"
   ]
  },
  {
   "cell_type": "code",
   "execution_count": 20,
   "metadata": {},
   "outputs": [],
   "source": [
    "###### Using theta obtained from gradient descent\n",
    "def predict1(theta1, X, threshold=0.5):\n",
    "    p1 = sigmoid(X.dot(theta1)) >= threshold\n",
    "    return(p1.astype('int'))"
   ]
  },
  {
   "cell_type": "code",
   "execution_count": 21,
   "metadata": {},
   "outputs": [
    {
     "name": "stdout",
     "output_type": "stream",
     "text": [
      "Train accuracy 92.0%\n"
     ]
    }
   ],
   "source": [
    "p1 = predict1(theta,X)\n",
    "print('Train accuracy {}%'.format(100*sum(p1.ravel() == y.ravel())/p1.size))"
   ]
  },
  {
   "cell_type": "code",
   "execution_count": 22,
   "metadata": {},
   "outputs": [],
   "source": [
    "#### sklearn\n",
    "from sklearn import linear_model\n",
    "reg = linear_model.LogisticRegression()\n",
    "reg.fit (X[:,[1,2]],y.ravel());"
   ]
  },
  {
   "cell_type": "code",
   "execution_count": 23,
   "metadata": {},
   "outputs": [
    {
     "name": "stdout",
     "output_type": "stream",
     "text": [
      "Train accuracy: 87.0%\n"
     ]
    }
   ],
   "source": [
    "from sklearn.metrics import accuracy_score\n",
    "y_pred = reg.predict(X[:,[1,2]])\n",
    "print('Train accuracy: ' + str(100*accuracy_score(y_pred,y))+'%')"
   ]
  },
  {
   "cell_type": "code",
   "execution_count": 24,
   "metadata": {},
   "outputs": [
    {
     "data": {
      "image/png": "[encoded data removed]",
      "text/plain": [
       "<Figure size 432x288 with 1 Axes>"
      ]
     },
     "metadata": {
      "needs_background": "light"
     },
     "output_type": "display_data"
    }
   ],
   "source": [
    "## Decision boundary\n",
    "neg = data['y'] == 0\n",
    "pos = data['y'] == 1\n",
    "plt.scatter(data[pos]['x1'],data[pos]['x2'], marker='+', c='orange', s=60, linewidth=2, label = \"Admitted\")\n",
    "plt.scatter(data[neg]['x1'], data[neg]['x2'], c='blue', s=60, label = \"Not admitted\" )\n",
    "\n",
    "xx = np.linspace(30,100,100)\n",
    "yy = (-1./theta[2])*(theta[0] + theta[1]*xx)\n",
    "plt.plot(xx,yy,color='r',label='decision boudary')\n",
    "\n",
    "\n",
    "yy_opt = (-1./theta_opt[2])*(theta_opt[0] + theta_opt[1]*xx)\n",
    "plt.plot(xx,yy_opt,color='k',label='decision boudary (using optimization)',alpha=0.7)\n",
    "\n",
    "coef = reg.coef_\n",
    "intercept = reg.intercept_\n",
    "ex2 = -(coef[:, 0] * xx + intercept.item()) / coef[:,1]\n",
    "plt.plot(xx,ex2,color='g',label='decision boundary(using sklearn)')\n",
    "\n",
    "plt.xlabel('Exam 1 score')\n",
    "plt.ylabel('Exam 2 score')\n",
    "plt.legend(loc='best')\n",
    "plt.show()"
   ]
  },
  {
   "cell_type": "code",
   "execution_count": 25,
   "metadata": {},
   "outputs": [
    {
     "data": {
      "image/png": "[encoded data removed]",
      "text/plain": [
       "<Figure size 432x288 with 1 Axes>"
      ]
     },
     "metadata": {
      "needs_background": "light"
     },
     "output_type": "display_data"
    }
   ],
   "source": [
    "### Alternate way to plot decision boundary (using contour)\n",
    "x1_min, x1_max = data['x1'].min(), data['x1'].max(),\n",
    "x2_min, x2_max = data['x2'].min(), data['x2'].max(),\n",
    "xx1, xx2 = np.meshgrid(np.linspace(x1_min, x1_max), np.linspace(x2_min, x2_max))\n",
    "\n",
    "B0 = np.linspace(x1_min,x1_max)\n",
    "B1 = np.linspace(x2_min,x2_max)\n",
    "#xx, yy = np.meshgrid(B0, B1, indexing='xy')\n",
    "Z = np.zeros((B0.size,B1.size))\n",
    "\n",
    "def h(x1,x2):\n",
    "    stacked = np.hstack((x1,x2))\n",
    "    a = np.insert(stacked,0,1)\n",
    "    return a.dot(theta)\n",
    "\n",
    "for i in range (B0.size):\n",
    "    for j in range(B1.size):\n",
    "        Z[i,j] = h(xx1[i,j],xx2[i,j])\n",
    "        \n",
    "plt.contour(xx1,xx2,Z,[0.5],colors='r')\n",
    "\n",
    "neg = data['y'] == 0\n",
    "pos = data['y'] == 1\n",
    "plt.scatter(data[pos]['x1'],data[pos]['x2'], marker='+', c='orange', s=60, linewidth=2, label = \"Admitted\")\n",
    "plt.scatter(data[neg]['x1'], data[neg]['x2'], c='blue', s=60, label = \"Not admitted\" )\n",
    "\n",
    "plt.xlabel('Exam 1 score')\n",
    "plt.ylabel('Exam 2 score')\n",
    "plt.title('Another way to plot')\n",
    "plt.show()"
   ]
  }
 ],
 "metadata": {
  "kernelspec": {
   "display_name": "Python 3",
   "language": "python",
   "name": "python3"
  },
  "language_info": {
   "codemirror_mode": {
    "name": "ipython",
    "version": 3
   },
   "file_extension": ".py",
   "mimetype": "text/x-python",
   "name": "python",
   "nbconvert_exporter": "python",
   "pygments_lexer": "ipython3",
   "version": "3.5.6"
  }
 },
 "nbformat": 4,
 "nbformat_minor": 2
}

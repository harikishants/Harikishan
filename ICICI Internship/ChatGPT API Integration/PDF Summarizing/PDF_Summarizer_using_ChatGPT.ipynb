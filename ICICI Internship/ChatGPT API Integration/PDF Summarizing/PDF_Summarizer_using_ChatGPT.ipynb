{
 "cells": [
  {
   "cell_type": "code",
   "execution_count": 1,
   "id": "50b70d6c",
   "metadata": {},
   "outputs": [],
   "source": [
    "import PyPDF2\n",
    "import time\n",
    "\n",
    "def PDF_to_Text_Parser(filename,pg_start=1,pg_end=float('inf')):\n",
    "    # Open the PDF file\n",
    "    pdf_file = open(filename, 'rb')\n",
    "\n",
    "    # Create a PDF reader object\n",
    "    pdf_reader = PyPDF2.PdfReader(pdf_file)\n",
    "\n",
    "    # Get the total number of pages\n",
    "    num_pages = len(pdf_reader.pages)\n",
    "    if(pg_end < num_pages):\n",
    "        num_pages = pg_end\n",
    "        \n",
    "    page_text = \"\"\n",
    "    # Loop through each page and extract its text content\n",
    "    for page in range(pg_start-1,num_pages):\n",
    "        # Get the page object\n",
    "        pdf_page = pdf_reader.pages[page]\n",
    "        #if(len(page_text)>4000):\n",
    "\n",
    "        # Extract the text content\n",
    "        page_text = page_text + pdf_page.extract_text()\n",
    "\n",
    "        #time.sleep(3)\n",
    "\n",
    "    # Close the PDF file\n",
    "    pdf_file.close()\n",
    "    return page_text"
   ]
  },
  {
   "cell_type": "code",
   "execution_count": 2,
   "id": "3511fbe8",
   "metadata": {},
   "outputs": [
    {
     "name": "stderr",
     "output_type": "stream",
     "text": [
      "/home/harikishan/anaconda3/envs/Hari/lib/python3.10/site-packages/requests/__init__.py:109: RequestsDependencyWarning: urllib3 (2.0.2) or chardet (3.0.4)/charset_normalizer (2.1.1) doesn't match a supported version!\n",
      "  warnings.warn(\n"
     ]
    }
   ],
   "source": [
    "import math\n",
    "import openai\n",
    "\n",
    "openai.api_key = '### USE YOUR OWN OPENAI API KEY ###'\n",
    "\n",
    "def call_chatGPT(query):\n",
    "    messages = [{\"role\": \"user\", \"content\": query}]\n",
    "    chat = openai.ChatCompletion.create(model=\"gpt-3.5-turbo\", messages=messages)\n",
    "    reply = chat.choices[0].message.content\n",
    "    return reply"
   ]
  },
  {
   "cell_type": "code",
   "execution_count": 3,
   "id": "5d120607",
   "metadata": {},
   "outputs": [],
   "source": [
    "def summarize_ChatGPT(texts):\n",
    "    summarized_text = \"\"\n",
    "    max_tokens = 4000\n",
    "    print(\"Input size = \",len(texts))\n",
    "    for i in range(math.ceil(len(texts)/max_tokens)):\n",
    "        text_chunk = texts[i*max_tokens:(i*max_tokens)+max_tokens]\n",
    "        print(\"{:.2f}\".format((i/math.ceil(len(texts)/max_tokens))*100),'%')\n",
    "        query = \"Give ways in bullet points to get digital foot print of customer. Extract only relevant information from the given TEXT. If you dont find relevant information, just say 'No information available. Given TEXT: '\" + text_chunk\n",
    "        summarized_text = summarized_text + '\\n***START***\\n' + call_chatGPT(query) + '\\n***END***\\n' \n",
    "        time.sleep(20)\n",
    "    print(\"Output size = \",len(summarized_text))\n",
    "    return summarized_text"
   ]
  },
  {
   "cell_type": "code",
   "execution_count": null,
   "id": "089952b5",
   "metadata": {},
   "outputs": [],
   "source": [
    "#For all pdfs in directory\n",
    "\n",
    "import os\n",
    "\n",
    "directory = os.fsencode('/home/harikishan/HARIKISHAN/ICICI_Internship/Research_papers')\n",
    "    \n",
    "for file in os.listdir(directory):\n",
    "    filename = os.fsdecode(file)\n",
    "    if filename.endswith(\".pdf\"):\n",
    "        file = str(directory)[2:len(str(directory))-1] + '/' + filename[0:]\n",
    "        print(file)\n",
    "        start = 1\n",
    "        end = 1000\n",
    "        texts = PDF_to_Text_Parser(file,start,end)\n",
    "        summary = summarize_ChatGPT(texts)\n",
    "        text_file = open(file[:len(file)-4] + '_summary.txt', \"w\")\n",
    "        text_file.write(summary)\n",
    "        text_file.close()\n"
   ]
  },
  {
   "cell_type": "code",
   "execution_count": 4,
   "id": "42a83efc",
   "metadata": {},
   "outputs": [
    {
     "name": "stdout",
     "output_type": "stream",
     "text": [
      "/home/harikishan/HARIKISHAN/ICICI_Internship/Digital_lending_bank_reports/cfr-wp2018-04.pdf\n",
      "Input size =  115945\n",
      "0.00 %\n",
      "3.45 %\n",
      "6.90 %\n",
      "10.34 %\n",
      "13.79 %\n",
      "17.24 %\n",
      "20.69 %\n",
      "24.14 %\n",
      "27.59 %\n",
      "31.03 %\n",
      "34.48 %\n",
      "37.93 %\n",
      "41.38 %\n",
      "44.83 %\n",
      "48.28 %\n",
      "51.72 %\n",
      "55.17 %\n",
      "58.62 %\n",
      "62.07 %\n",
      "65.52 %\n",
      "68.97 %\n",
      "72.41 %\n",
      "75.86 %\n",
      "79.31 %\n",
      "82.76 %\n",
      "86.21 %\n",
      "89.66 %\n",
      "93.10 %\n",
      "96.55 %\n",
      "Output size =  18450\n"
     ]
    }
   ],
   "source": [
    "\n",
    "file = '/home/harikishan/HARIKISHAN/ICICI_Internship/Digital_lending_bank_reports/cfr-wp2018-04.pdf'\n",
    "print(file)\n",
    "start = 1\n",
    "end = 1000\n",
    "texts = PDF_to_Text_Parser(file,start,end)\n",
    "summary = summarize_ChatGPT(texts)\n",
    "text_file = open(file[:len(file)-4] + '_summary.txt', \"w\")\n",
    "text_file.write(summary)\n",
    "text_file.close()\n"
   ]
  },
  {
   "cell_type": "code",
   "execution_count": null,
   "id": "b9b85ac2",
   "metadata": {},
   "outputs": [],
   "source": []
  },
  {
   "cell_type": "code",
   "execution_count": null,
   "id": "50f81acc",
   "metadata": {},
   "outputs": [],
   "source": []
  }
 ],
 "metadata": {
  "kernelspec": {
   "display_name": "Python 3 (ipykernel)",
   "language": "python",
   "name": "python3"
  },
  "language_info": {
   "codemirror_mode": {
    "name": "ipython",
    "version": 3
   },
   "file_extension": ".py",
   "mimetype": "text/x-python",
   "name": "python",
   "nbconvert_exporter": "python",
   "pygments_lexer": "ipython3",
   "version": "3.10.6"
  }
 },
 "nbformat": 4,
 "nbformat_minor": 5
}
